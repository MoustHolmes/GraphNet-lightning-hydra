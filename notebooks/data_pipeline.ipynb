{
 "cells": [
  {
   "cell_type": "code",
   "execution_count": 5,
   "metadata": {},
   "outputs": [],
   "source": [
    "import sqlite3\n",
    "import pandas as pd\n",
    "import numpy as np\n",
    "import torch\n",
    "import torch.nn as nn\n",
    "from torch.nn.utils.rnn import pad_sequence, pack_padded_sequence\n",
    "from torch.utils.data import DataLoader, random_split\n",
    "import pytorch_lightning as pl"
   ]
  },
  {
   "cell_type": "code",
   "execution_count": 2,
   "metadata": {},
   "outputs": [
    {
     "name": "stdout",
     "output_type": "stream",
     "text": [
      "Tables within the SQL database is:\n",
      "                  name\n",
      "0                retro\n",
      "1     SplitInIcePulses\n",
      "2  I3MCTree__primaries\n",
      "3  I3MCTree__particles\n",
      "4   I3TriggerHierarchy\n",
      "5                truth\n",
      "\n"
     ]
    }
   ],
   "source": [
    "mini_db_path = \"/groups/icecube/moust/storage/140021_db/db_out_mini/merged_140021_mini.db\"\n",
    "query_all =\"SELECT * FROM truth\"\n",
    "with sqlite3.connect(mini_db_path) as conn:\n",
    "    db_tables = pd.read_sql_query(\"SELECT name FROM sqlite_master WHERE type = 'table'\", conn)\n",
    "    print('Tables within the SQL database is:')\n",
    "    print(db_tables)\n",
    "    print()\n",
    "    mini_db = {name:  pd.read_sql_query(\"SELECT * FROM \"+name, conn) for name in db_tables.name}"
   ]
  },
  {
   "cell_type": "code",
   "execution_count": 12,
   "metadata": {},
   "outputs": [],
   "source": [
    "def pad_collate(batch):\n",
    "  (xx, y) = zip(*batch)\n",
    "  x_lens = [len(x) for x in xx]\n",
    "  xx_pad = pad_sequence(xx, batch_first=True, padding_value=0)\n",
    "\n",
    "  pad_mask = torch.zeros_like(xx_pad[:, :, 0]).type(torch.bool)\n",
    "  for i, length in enumerate(x_lens):\n",
    "    pad_mask[i, length:] = True\n",
    "\n",
    "  return xx_pad, torch.tensor(y), pad_mask\n",
    "\n",
    "class SimpleDataset(Dataset):\n",
    "  def __init__(self, \n",
    "               db_path: str, \n",
    "               event_no_list: List[int], #event_no_list_path: str,\n",
    "               pulsemap: str,\n",
    "               input_cols: List[str],\n",
    "               target_cols: List[str],\n",
    "               truth_table: str = \"truth\"\n",
    "               ):\n",
    "    self.db_path = db_path\n",
    "    self.event_no_list = event_no_list #self.event_no_list_path = event_no_list_path\n",
    "    self.pulsemap = pulsemap\n",
    "    self.input_cols = input_cols\n",
    "    self.target_cols = target_cols\n",
    "    self.truth_table = truth_table\n",
    "\n",
    "\n",
    "    if isinstance(list(input_cols), list):\n",
    "      self.input_cols_str = \", \".join(input_cols)\n",
    "    else:\n",
    "\n",
    "      self.input_cols_str = input_cols\n",
    "\n",
    "    if isinstance(target_cols, list):\n",
    "      self.target_cols_str = \", \".join(target_cols)\n",
    "    else:\n",
    "      self.target_cols_str = target_cols\n",
    "    \n",
    "    # self.event_no_list = np.genfromtxt(self.event_no_list_path,dtype=int)\n",
    "\n",
    "    self.data_len = len(self.event_no_list)\n",
    "    \n",
    "\n",
    "  def __getitem__(self, index):\n",
    "    event_no = self.event_no_list[index]\n",
    "    with sqlite3.connect(self.db_path) as conn:\n",
    "      features = Tensor(conn.execute(f\"SELECT {self.input_cols_str} FROM {self.pulsemap} WHERE event_no == {event_no}\").fetchall())\n",
    "      truth = Tensor(conn.execute(f\"SELECT {self.target_cols_str} FROM {self.truth_table} WHERE event_no == {event_no}\").fetchall())\n",
    "    return features, truth\n",
    "  \n",
    "  def __len__(self):\n",
    "    return self.data_len"
   ]
  },
  {
   "cell_type": "code",
   "execution_count": 13,
   "metadata": {},
   "outputs": [
    {
     "name": "stdout",
     "output_type": "stream",
     "text": [
      "charge, dom_time, dom_x, dom_y, dom_z\n",
      "SELECT charge, dom_time, dom_x, dom_y, dom_z FROM SplitInIcePulses WHERE event_no == 14\n"
     ]
    }
   ],
   "source": [
    "simpledataset = SimpleDataset( \n",
    "               db_path = mini_db_path, \n",
    "               event_no_list = np.arange(10),\n",
    "               pulsemap = \"SplitInIcePulses\",\n",
    "               input_cols = [\"charge\",\"dom_time\",\"dom_x\",\"dom_y\",\"dom_z\"],\n",
    "               target_cols = [\"energy\",\"inelasticity\"],\n",
    "               )\n",
    "dataloader = DataLoader(dataset=simpledataset, batch_size = 4, collate_fn = pad_collate)"
   ]
  },
  {
   "cell_type": "code",
   "execution_count": 14,
   "metadata": {},
   "outputs": [
    {
     "name": "stdout",
     "output_type": "stream",
     "text": [
      "torch.Size([4, 130, 5]) (tensor([[38.5545,  0.3361]]), tensor([[35.4343,  0.7567]]), tensor([[1.2697, 0.1311]]), tensor([[2.1646, 0.4186]])) tensor([[False, False, False, False, False, False, False, False, False, False,\n",
      "         False, False, False, False, False, False, False, False, False, False,\n",
      "         False, False, False, False, False, False, False, False, False, False,\n",
      "         False, False, False, False, False, False, False, False, False, False,\n",
      "         False, False, False, False, False, False, False, False, False, False,\n",
      "         False, False, False, False, False, False, False, False, False, False,\n",
      "         False, False, False, False, False, False, False, False, False, False,\n",
      "         False, False, False, False, False, False, False, False, False, False,\n",
      "         False, False, False, False, False, False, False, False, False,  True,\n",
      "          True,  True,  True,  True,  True,  True,  True,  True,  True,  True,\n",
      "          True,  True,  True,  True,  True,  True,  True,  True,  True,  True,\n",
      "          True,  True,  True,  True,  True,  True,  True,  True,  True,  True,\n",
      "          True,  True,  True,  True,  True,  True,  True,  True,  True,  True],\n",
      "        [False, False, False, False, False, False, False, False, False, False,\n",
      "         False, False, False, False, False, False, False, False, False, False,\n",
      "         False, False, False, False, False, False, False, False, False, False,\n",
      "         False, False, False, False, False, False, False, False, False, False,\n",
      "         False, False, False, False, False, False, False, False, False, False,\n",
      "         False, False, False, False, False, False, False, False, False, False,\n",
      "         False, False, False, False, False, False, False, False, False, False,\n",
      "         False, False, False, False, False, False, False, False, False, False,\n",
      "         False, False, False, False, False, False, False, False, False, False,\n",
      "         False, False, False, False, False, False, False, False, False, False,\n",
      "         False, False, False, False, False, False, False, False, False, False,\n",
      "         False, False, False, False, False, False, False, False, False, False,\n",
      "         False, False, False,  True,  True,  True,  True,  True,  True,  True],\n",
      "        [False, False, False, False, False, False, False, False, False, False,\n",
      "         False, False, False, False, False, False, False, False, False, False,\n",
      "         False, False, False, False, False, False, False, False, False, False,\n",
      "         False, False, False, False, False, False, False, False, False, False,\n",
      "         False, False, False, False, False, False, False, False, False, False,\n",
      "         False, False, False, False, False, False, False, False, False, False,\n",
      "         False, False, False, False, False, False, False, False, False, False,\n",
      "         False, False, False, False, False, False, False, False, False, False,\n",
      "         False, False, False,  True,  True,  True,  True,  True,  True,  True,\n",
      "          True,  True,  True,  True,  True,  True,  True,  True,  True,  True,\n",
      "          True,  True,  True,  True,  True,  True,  True,  True,  True,  True,\n",
      "          True,  True,  True,  True,  True,  True,  True,  True,  True,  True,\n",
      "          True,  True,  True,  True,  True,  True,  True,  True,  True,  True],\n",
      "        [False, False, False, False, False, False, False, False, False, False,\n",
      "         False, False, False, False, False, False, False, False, False, False,\n",
      "         False, False, False, False, False, False, False, False, False, False,\n",
      "         False, False, False, False, False, False, False, False, False, False,\n",
      "         False, False, False, False, False, False, False, False, False, False,\n",
      "         False, False, False, False, False, False, False, False, False, False,\n",
      "         False, False, False, False, False, False, False, False, False, False,\n",
      "         False, False, False, False, False, False, False, False, False, False,\n",
      "         False, False, False, False, False, False, False, False, False, False,\n",
      "         False, False, False, False, False, False, False, False, False, False,\n",
      "         False, False, False, False, False, False, False, False, False, False,\n",
      "         False, False, False, False, False, False, False, False, False, False,\n",
      "         False, False, False, False, False, False, False, False, False, False]])\n"
     ]
    }
   ],
   "source": [
    "dataiter = iter(dataloader)\n",
    "data = next(dataiter)\n",
    "x1, truth , lengths= data\n",
    "print(x1.shape, truth, lengths)"
   ]
  }
 ],
 "metadata": {
  "kernelspec": {
   "display_name": "hydra",
   "language": "python",
   "name": "python3"
  },
  "language_info": {
   "codemirror_mode": {
    "name": "ipython",
    "version": 3
   },
   "file_extension": ".py",
   "mimetype": "text/x-python",
   "name": "python",
   "nbconvert_exporter": "python",
   "pygments_lexer": "ipython3",
   "version": "3.9.16"
  },
  "orig_nbformat": 4,
  "vscode": {
   "interpreter": {
    "hash": "798460b207845be22dae3ef8b3ec85337a437d29716aaad41977fc3150de5ddb"
   }
  }
 },
 "nbformat": 4,
 "nbformat_minor": 2
}
