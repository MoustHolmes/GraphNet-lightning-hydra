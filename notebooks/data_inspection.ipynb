{
 "cells": [
  {
   "cell_type": "code",
   "execution_count": 1,
   "metadata": {},
   "outputs": [],
   "source": [
    "import sqlite3\n",
    "import pandas as pd\n",
    "import numpy as np\n",
    "import matplotlib.pyplot as plt\n",
    "import seaborn as sns\n",
    "\n",
    "from matplotlib.colors import LogNorm, Normalize"
   ]
  },
  {
   "cell_type": "code",
   "execution_count": 3,
   "metadata": {},
   "outputs": [
    {
     "name": "stdout",
     "output_type": "stream",
     "text": [
      "\n",
      "        SELECT \n",
      "            event_no, \n",
      "            COUNT(*) as count \n",
      "        FROM \n",
      "            pulse\n",
      "        WHERE \n",
      "            event_no IN (\n",
      "                        SELECT\n",
      "                            event_no \n",
      "                        FROM \n",
      "                            truth\n",
      "                        WHERE\n",
      "                            abs(pid) == 14\n",
      "                        AND \n",
      "                            interaction_type == 1\n",
      "                        AND\n",
      "                            energy BETWEEN 15 AND 200\n",
      "                        )\n",
      "        GROUP BY event_no\n",
      "        \n"
     ]
    }
   ],
   "source": [
    "pulsemap = \"pulse\"\n",
    "truth_table= \"truth\"\n",
    "query = f\"\"\"\n",
    "        SELECT \n",
    "            event_no, \n",
    "            COUNT(*) as count \n",
    "        FROM \n",
    "            {pulsemap}\n",
    "        WHERE \n",
    "            event_no IN (\n",
    "                        SELECT\n",
    "                            event_no \n",
    "                        FROM \n",
    "                            {truth_table}\n",
    "                        WHERE\n",
    "                            abs(pid) == 14\n",
    "                        AND \n",
    "                            interaction_type == 1\n",
    "                        AND\n",
    "                            energy BETWEEN 15 AND 200\n",
    "                        )\n",
    "        GROUP BY event_no\n",
    "        \"\"\"\n",
    "print(query)"
   ]
  },
  {
   "cell_type": "code",
   "execution_count": null,
   "metadata": {},
   "outputs": [],
   "source": [
    "def get_len_sort_event_no_list(db_path,pulsemap,truth_table):\n",
    "    conn = sqlite3.connect(db_path)\n",
    "    query = \"\"\"\n",
    "        SELECT \n",
    "            event_no, \n",
    "            COUNT(*) as count \n",
    "        FROM \n",
    "            {pulsemap} \n",
    "        WHERE \n",
    "            event_no IN (\n",
    "                        SELECT\n",
    "                            event_no \n",
    "                        FROM \n",
    "                            {truth_table}\n",
    "                        WHERE\n",
    "                            abs(pid) == 14\n",
    "                        AND \n",
    "                            interaction_type == 1\n",
    "                        AND\n",
    "                            energy BETWEEN 15 AND 200\n",
    "                        )\n",
    "        GROUP BY event_no\n",
    "        \"\"\"\n",
    "    df = pd.read_sql_query(query, conn).sort_values(\"count\",ascending=False)[\"event_no\"].to_numpy()\n"
   ]
  },
  {
   "cell_type": "code",
   "execution_count": 39,
   "metadata": {},
   "outputs": [],
   "source": [
    "upgrade_db_path = \"/groups/icecube/petersen/GraphNetDatabaseRepository/Upgrade_Data/sqlite3/dev_step4_upgrade_028_with_noise_dynedge_pulsemap_v3_merger_aftercrash.db\"\n",
    "conn = sqlite3.connect(upgrade_db_path)\n",
    "upgrade_df = pd.read_sql_query(\"\"\"\n",
    "            SELECT \n",
    "                event_no \n",
    "            FROM \n",
    "                truth\n",
    "            WHERE\n",
    "                abs(pid) =14\n",
    "                AND\n",
    "                event_no IN (\n",
    "                    SELECT\n",
    "                        event_no \n",
    "                    FROM \n",
    "                        SplitInIcePulses_dynedge_v2_Pulses\n",
    "                    GROUP BY event_no\n",
    "                    HAVING COUNT(*) > 12\n",
    "                    ); \n",
    "            \"\"\", conn)\n",
    "conn.close()"
   ]
  },
  {
   "cell_type": "code",
   "execution_count": 7,
   "metadata": {},
   "outputs": [],
   "source": [
    "df_out = df[df[\"count\"].between(12,200)]"
   ]
  },
  {
   "cell_type": "code",
   "execution_count": 9,
   "metadata": {},
   "outputs": [
    {
     "data": {
      "text/plain": [
       "542405"
      ]
     },
     "execution_count": 9,
     "metadata": {},
     "output_type": "execute_result"
    }
   ],
   "source": [
    "len(df_out)"
   ]
  },
  {
   "cell_type": "code",
   "execution_count": 37,
   "metadata": {},
   "outputs": [],
   "source": [
    "df = pd.read_csv(\"/groups/icecube/moust/storage/event_selections/event_no_numu_track_energy_15_200_nhits_4_400_sorted.csv\",header=0,names=[\"event_no\"],index_col=None)[\"event_no\"].to_numpy()\n",
    "# df[\"event_no\"].values.tolist()"
   ]
  },
  {
   "cell_type": "code",
   "execution_count": 38,
   "metadata": {},
   "outputs": [
    {
     "data": {
      "text/plain": [
       "array([False, False, False, ..., False, False, False])"
      ]
     },
     "execution_count": 38,
     "metadata": {},
     "output_type": "execute_result"
    }
   ],
   "source": [
    "df[df% 10 == 0]"
   ]
  },
  {
   "cell_type": "code",
   "execution_count": 13,
   "metadata": {},
   "outputs": [],
   "source": [
    "df_out.sort_values(\"count\",ascending=False).to_csv(\n",
    "    \"/groups/icecube/moust/storage/event_selections/event_no_numu_track_energy_15_200_nhits_4_400_sorted.csv\",\n",
    "    columns = [\"event_no\"],\n",
    "    header=False,\n",
    "    index = False,\n",
    "    )"
   ]
  },
  {
   "cell_type": "code",
   "execution_count": 27,
   "metadata": {},
   "outputs": [],
   "source": [
    "event_no_list = np.genfromtxt(\"/groups/icecube/moust/storage/event_selections/event_no_numu_track_energy_15_200_nhits_4_400_sorted.csv\")"
   ]
  },
  {
   "cell_type": "code",
   "execution_count": 28,
   "metadata": {},
   "outputs": [
    {
     "data": {
      "text/plain": [
       "array([nan, nan, nan, ..., nan, nan, nan])"
      ]
     },
     "execution_count": 28,
     "metadata": {},
     "output_type": "execute_result"
    }
   ],
   "source": [
    "event_no_list"
   ]
  },
  {
   "cell_type": "code",
   "execution_count": 20,
   "metadata": {},
   "outputs": [
    {
     "data": {
      "text/plain": [
       "708307"
      ]
     },
     "execution_count": 20,
     "metadata": {},
     "output_type": "execute_result"
    }
   ],
   "source": [
    "len(df)"
   ]
  },
  {
   "cell_type": "code",
   "execution_count": 23,
   "metadata": {},
   "outputs": [
    {
     "data": {
      "text/plain": [
       "607044"
      ]
     },
     "execution_count": 23,
     "metadata": {},
     "output_type": "execute_result"
    }
   ],
   "source": [
    "df_8p = df[df[\"count\"]  > 10]\n",
    "len(df_8p)"
   ]
  },
  {
   "cell_type": "code",
   "execution_count": 24,
   "metadata": {},
   "outputs": [],
   "source": [
    "def df_to_train_test_val_selection(df,name, path, mod_num = 8):\n",
    "    (df[df[\"count\"]%mod_num <  1][\"event_no\"]).to_csv(path+name+\"_train.csv\",index= False)#header=False,\n",
    "    (df[df[\"count\"]%mod_num == 1][\"event_no\"]).to_csv(path+name+\"_test.csv\",index= False)\n",
    "    (df[df[\"count\"]%mod_num == 0][\"event_no\"]).to_csv(path+name+\"_val.csv\",index= False)"
   ]
  },
  {
   "cell_type": "code",
   "execution_count": 25,
   "metadata": {},
   "outputs": [],
   "source": [
    "df_to_train_test_val_selection(df_8p, \"event_no_numu_track_energy_15_200_nhits_10_400\",\"/groups/icecube/moust/storage/event_selections/\")"
   ]
  },
  {
   "cell_type": "code",
   "execution_count": 4,
   "metadata": {},
   "outputs": [
    {
     "data": {
      "text/html": [
       "<div>\n",
       "<style scoped>\n",
       "    .dataframe tbody tr th:only-of-type {\n",
       "        vertical-align: middle;\n",
       "    }\n",
       "\n",
       "    .dataframe tbody tr th {\n",
       "        vertical-align: top;\n",
       "    }\n",
       "\n",
       "    .dataframe thead th {\n",
       "        text-align: right;\n",
       "    }\n",
       "</style>\n",
       "<table border=\"1\" class=\"dataframe\">\n",
       "  <thead>\n",
       "    <tr style=\"text-align: right;\">\n",
       "      <th></th>\n",
       "      <th>Unnamed: 0</th>\n",
       "      <th>event_no</th>\n",
       "      <th>count</th>\n",
       "    </tr>\n",
       "  </thead>\n",
       "  <tbody>\n",
       "    <tr>\n",
       "      <th>1</th>\n",
       "      <td>1</td>\n",
       "      <td>20</td>\n",
       "      <td>35</td>\n",
       "    </tr>\n",
       "    <tr>\n",
       "      <th>4</th>\n",
       "      <td>4</td>\n",
       "      <td>54</td>\n",
       "      <td>70</td>\n",
       "    </tr>\n",
       "    <tr>\n",
       "      <th>7</th>\n",
       "      <td>7</td>\n",
       "      <td>63</td>\n",
       "      <td>14</td>\n",
       "    </tr>\n",
       "    <tr>\n",
       "      <th>9</th>\n",
       "      <td>9</td>\n",
       "      <td>93</td>\n",
       "      <td>14</td>\n",
       "    </tr>\n",
       "    <tr>\n",
       "      <th>35</th>\n",
       "      <td>36</td>\n",
       "      <td>241</td>\n",
       "      <td>189</td>\n",
       "    </tr>\n",
       "    <tr>\n",
       "      <th>...</th>\n",
       "      <td>...</td>\n",
       "      <td>...</td>\n",
       "      <td>...</td>\n",
       "    </tr>\n",
       "    <tr>\n",
       "      <th>708292</th>\n",
       "      <td>750378</td>\n",
       "      <td>7457762</td>\n",
       "      <td>35</td>\n",
       "    </tr>\n",
       "    <tr>\n",
       "      <th>708293</th>\n",
       "      <td>750379</td>\n",
       "      <td>7457780</td>\n",
       "      <td>119</td>\n",
       "    </tr>\n",
       "    <tr>\n",
       "      <th>708295</th>\n",
       "      <td>750381</td>\n",
       "      <td>7457845</td>\n",
       "      <td>7</td>\n",
       "    </tr>\n",
       "    <tr>\n",
       "      <th>708304</th>\n",
       "      <td>750391</td>\n",
       "      <td>7458111</td>\n",
       "      <td>28</td>\n",
       "    </tr>\n",
       "    <tr>\n",
       "      <th>708306</th>\n",
       "      <td>750393</td>\n",
       "      <td>7458144</td>\n",
       "      <td>133</td>\n",
       "    </tr>\n",
       "  </tbody>\n",
       "</table>\n",
       "<p>102260 rows × 3 columns</p>\n",
       "</div>"
      ],
      "text/plain": [
       "        Unnamed: 0  event_no  count\n",
       "1                1        20     35\n",
       "4                4        54     70\n",
       "7                7        63     14\n",
       "9                9        93     14\n",
       "35              36       241    189\n",
       "...            ...       ...    ...\n",
       "708292      750378   7457762     35\n",
       "708293      750379   7457780    119\n",
       "708295      750381   7457845      7\n",
       "708304      750391   7458111     28\n",
       "708306      750393   7458144    133\n",
       "\n",
       "[102260 rows x 3 columns]"
      ]
     },
     "execution_count": 4,
     "metadata": {},
     "output_type": "execute_result"
    }
   ],
   "source": [
    "# df[df[\"count\"]%7 == 0]"
   ]
  },
  {
   "cell_type": "code",
   "execution_count": 7,
   "metadata": {},
   "outputs": [
    {
     "data": {
      "text/html": [
       "<div>\n",
       "<style scoped>\n",
       "    .dataframe tbody tr th:only-of-type {\n",
       "        vertical-align: middle;\n",
       "    }\n",
       "\n",
       "    .dataframe tbody tr th {\n",
       "        vertical-align: top;\n",
       "    }\n",
       "\n",
       "    .dataframe thead th {\n",
       "        text-align: right;\n",
       "    }\n",
       "</style>\n",
       "<table border=\"1\" class=\"dataframe\">\n",
       "  <thead>\n",
       "    <tr style=\"text-align: right;\">\n",
       "      <th></th>\n",
       "      <th>Unnamed: 0</th>\n",
       "      <th>event_no</th>\n",
       "      <th>count</th>\n",
       "    </tr>\n",
       "  </thead>\n",
       "  <tbody>\n",
       "    <tr>\n",
       "      <th>185308</th>\n",
       "      <td>196196</td>\n",
       "      <td>1968631</td>\n",
       "      <td>400</td>\n",
       "    </tr>\n",
       "    <tr>\n",
       "      <th>31944</th>\n",
       "      <td>33817</td>\n",
       "      <td>335287</td>\n",
       "      <td>400</td>\n",
       "    </tr>\n",
       "    <tr>\n",
       "      <th>644233</th>\n",
       "      <td>682410</td>\n",
       "      <td>6806646</td>\n",
       "      <td>400</td>\n",
       "    </tr>\n",
       "    <tr>\n",
       "      <th>566105</th>\n",
       "      <td>599729</td>\n",
       "      <td>6047983</td>\n",
       "      <td>400</td>\n",
       "    </tr>\n",
       "    <tr>\n",
       "      <th>622512</th>\n",
       "      <td>659372</td>\n",
       "      <td>6581000</td>\n",
       "      <td>400</td>\n",
       "    </tr>\n",
       "    <tr>\n",
       "      <th>...</th>\n",
       "      <td>...</td>\n",
       "      <td>...</td>\n",
       "      <td>...</td>\n",
       "    </tr>\n",
       "    <tr>\n",
       "      <th>476105</th>\n",
       "      <td>504399</td>\n",
       "      <td>5026612</td>\n",
       "      <td>4</td>\n",
       "    </tr>\n",
       "    <tr>\n",
       "      <th>680947</th>\n",
       "      <td>721333</td>\n",
       "      <td>7208178</td>\n",
       "      <td>4</td>\n",
       "    </tr>\n",
       "    <tr>\n",
       "      <th>528917</th>\n",
       "      <td>560438</td>\n",
       "      <td>5643388</td>\n",
       "      <td>4</td>\n",
       "    </tr>\n",
       "    <tr>\n",
       "      <th>549602</th>\n",
       "      <td>582288</td>\n",
       "      <td>5877301</td>\n",
       "      <td>4</td>\n",
       "    </tr>\n",
       "    <tr>\n",
       "      <th>364178</th>\n",
       "      <td>385835</td>\n",
       "      <td>3862611</td>\n",
       "      <td>4</td>\n",
       "    </tr>\n",
       "  </tbody>\n",
       "</table>\n",
       "<p>708307 rows × 3 columns</p>\n",
       "</div>"
      ],
      "text/plain": [
       "        Unnamed: 0  event_no  count\n",
       "185308      196196   1968631    400\n",
       "31944        33817    335287    400\n",
       "644233      682410   6806646    400\n",
       "566105      599729   6047983    400\n",
       "622512      659372   6581000    400\n",
       "...            ...       ...    ...\n",
       "476105      504399   5026612      4\n",
       "680947      721333   7208178      4\n",
       "528917      560438   5643388      4\n",
       "549602      582288   5877301      4\n",
       "364178      385835   3862611      4\n",
       "\n",
       "[708307 rows x 3 columns]"
      ]
     },
     "execution_count": 7,
     "metadata": {},
     "output_type": "execute_result"
    }
   ],
   "source": [
    "df.sort_values(\"count\",ascending=False)"
   ]
  },
  {
   "cell_type": "code",
   "execution_count": 5,
   "metadata": {},
   "outputs": [],
   "source": [
    "df.to_csv(\"/groups/icecube/moust/storage/event_selections/df_event_dynedge_count.csv\",header=False)"
   ]
  },
  {
   "cell_type": "code",
   "execution_count": 9,
   "metadata": {},
   "outputs": [],
   "source": [
    "df[\"count\"].to_csv(\"/groups/icecube/moust/storage/event_selections/event_no_numu_track_energy_15_200_nhits_4_400_sorted.csv\",header=False)"
   ]
  },
  {
   "cell_type": "code",
   "execution_count": 2,
   "metadata": {},
   "outputs": [],
   "source": [
    "db_path = \"/groups/icecube/petersen/GraphNetDatabaseRepository/Upgrade_Data/sqlite3/dev_step4_upgrade_028_with_noise_dynedge_pulsemap_v3_merger_aftercrash.db\"\n",
    "conn = sqlite3.connect(db_path)\n",
    "\n",
    "# Create a DataFrame by querying the database and grouping by event_no\n",
    "query = \"\"\"\n",
    "    SELECT \n",
    "        event_no, \n",
    "        COUNT(*) as count \n",
    "    FROM \n",
    "        SplitInIcePulses_dynedge_v2_Pulses \n",
    "    WHERE \n",
    "        event_no IN (\n",
    "                    SELECT\n",
    "                        event_no \n",
    "                    FROM \n",
    "                        truth\n",
    "                    WHERE\n",
    "                        abs(pid) == 14\n",
    "                    AND \n",
    "                        interaction_type == 1\n",
    "                    AND\n",
    "                        energy BETWEEN 15 AND 200\n",
    "                    )\n",
    "    GROUP BY event_no\"\"\"\n",
    "df = pd.read_sql_query(query, conn)\n",
    "conn.close()"
   ]
  },
  {
   "cell_type": "code",
   "execution_count": 4,
   "metadata": {},
   "outputs": [
    {
     "data": {
      "text/html": [
       "<div>\n",
       "<style scoped>\n",
       "    .dataframe tbody tr th:only-of-type {\n",
       "        vertical-align: middle;\n",
       "    }\n",
       "\n",
       "    .dataframe tbody tr th {\n",
       "        vertical-align: top;\n",
       "    }\n",
       "\n",
       "    .dataframe thead th {\n",
       "        text-align: right;\n",
       "    }\n",
       "</style>\n",
       "<table border=\"1\" class=\"dataframe\">\n",
       "  <thead>\n",
       "    <tr style=\"text-align: right;\">\n",
       "      <th></th>\n",
       "      <th>event_no</th>\n",
       "      <th>count</th>\n",
       "    </tr>\n",
       "  </thead>\n",
       "  <tbody>\n",
       "    <tr>\n",
       "      <th>197968</th>\n",
       "      <td>1995116</td>\n",
       "      <td>2330</td>\n",
       "    </tr>\n",
       "    <tr>\n",
       "      <th>638055</th>\n",
       "      <td>6389416</td>\n",
       "      <td>2263</td>\n",
       "    </tr>\n",
       "    <tr>\n",
       "      <th>577893</th>\n",
       "      <td>5818108</td>\n",
       "      <td>2259</td>\n",
       "    </tr>\n",
       "    <tr>\n",
       "      <th>477007</th>\n",
       "      <td>4777793</td>\n",
       "      <td>2257</td>\n",
       "    </tr>\n",
       "    <tr>\n",
       "      <th>524005</th>\n",
       "      <td>5251390</td>\n",
       "      <td>2180</td>\n",
       "    </tr>\n",
       "    <tr>\n",
       "      <th>...</th>\n",
       "      <td>...</td>\n",
       "      <td>...</td>\n",
       "    </tr>\n",
       "    <tr>\n",
       "      <th>269578</th>\n",
       "      <td>2695766</td>\n",
       "      <td>1</td>\n",
       "    </tr>\n",
       "    <tr>\n",
       "      <th>641258</th>\n",
       "      <td>6431135</td>\n",
       "      <td>1</td>\n",
       "    </tr>\n",
       "    <tr>\n",
       "      <th>405464</th>\n",
       "      <td>4060628</td>\n",
       "      <td>1</td>\n",
       "    </tr>\n",
       "    <tr>\n",
       "      <th>113709</th>\n",
       "      <td>1138391</td>\n",
       "      <td>1</td>\n",
       "    </tr>\n",
       "    <tr>\n",
       "      <th>38366</th>\n",
       "      <td>368538</td>\n",
       "      <td>1</td>\n",
       "    </tr>\n",
       "  </tbody>\n",
       "</table>\n",
       "<p>750394 rows × 2 columns</p>\n",
       "</div>"
      ],
      "text/plain": [
       "        event_no  count\n",
       "197968   1995116   2330\n",
       "638055   6389416   2263\n",
       "577893   5818108   2259\n",
       "477007   4777793   2257\n",
       "524005   5251390   2180\n",
       "...          ...    ...\n",
       "269578   2695766      1\n",
       "641258   6431135      1\n",
       "405464   4060628      1\n",
       "113709   1138391      1\n",
       "38366     368538      1\n",
       "\n",
       "[750394 rows x 2 columns]"
      ]
     },
     "execution_count": 4,
     "metadata": {},
     "output_type": "execute_result"
    }
   ],
   "source": [
    "df.to_csv()"
   ]
  },
  {
   "cell_type": "code",
   "execution_count": 6,
   "metadata": {},
   "outputs": [
    {
     "data": {
      "text/plain": [
       "<AxesSubplot:>"
      ]
     },
     "execution_count": 6,
     "metadata": {},
     "output_type": "execute_result"
    },
    {
     "data": {
      "image/png": "[encoded data removed]",
      "text/plain": [
       "<Figure size 640x480 with 1 Axes>"
      ]
     },
     "metadata": {},
     "output_type": "display_data"
    }
   ],
   "source": [
    "df[df['count'] > 4]['count'].hist(bins=180)"
   ]
  },
  {
   "cell_type": "code",
   "execution_count": 8,
   "metadata": {},
   "outputs": [
    {
     "data": {
      "text/plain": [
       "5487"
      ]
     },
     "execution_count": 8,
     "metadata": {},
     "output_type": "execute_result"
    }
   ],
   "source": [
    "df[\"count\"].max()"
   ]
  },
  {
   "cell_type": "code",
   "execution_count": 13,
   "metadata": {},
   "outputs": [
    {
     "data": {
      "text/plain": [
       "19"
      ]
     },
     "execution_count": 13,
     "metadata": {},
     "output_type": "execute_result"
    }
   ],
   "source": [
    "len(df[df['count'] > 4000])"
   ]
  },
  {
   "cell_type": "code",
   "execution_count": 11,
   "metadata": {},
   "outputs": [
    {
     "name": "stdout",
     "output_type": "stream",
     "text": [
      "<class 'pandas.core.frame.DataFrame'>\n",
      "RangeIndex: 1267580 entries, 0 to 1267579\n",
      "Data columns (total 2 columns):\n",
      " #   Column    Non-Null Count    Dtype\n",
      "---  ------    --------------    -----\n",
      " 0   event_no  1267580 non-null  int64\n",
      " 1   count     1267580 non-null  int64\n",
      "dtypes: int64(2)\n",
      "memory usage: 19.3 MB\n"
     ]
    }
   ],
   "source": [
    "df.info()"
   ]
  },
  {
   "cell_type": "code",
   "execution_count": 19,
   "metadata": {},
   "outputs": [
    {
     "data": {
      "text/plain": [
       "19"
      ]
     },
     "execution_count": 19,
     "metadata": {},
     "output_type": "execute_result"
    }
   ],
   "source": [
    "len(df[df[\"count\"].between(3000,3100)])"
   ]
  },
  {
   "cell_type": "code",
   "execution_count": 30,
   "metadata": {},
   "outputs": [
    {
     "data": {
      "text/plain": [
       "0.031580649742028115"
      ]
     },
     "execution_count": 30,
     "metadata": {},
     "output_type": "execute_result"
    }
   ],
   "source": [
    "len(df[df['count'] > 400])/len(df)"
   ]
  },
  {
   "cell_type": "code",
   "execution_count": 26,
   "metadata": {},
   "outputs": [
    {
     "data": {
      "text/plain": [
       "0.03294229949983433"
      ]
     },
     "execution_count": 26,
     "metadata": {},
     "output_type": "execute_result"
    }
   ],
   "source": [
    "len(df[df['count'] < 4])/len(df)"
   ]
  },
  {
   "cell_type": "code",
   "execution_count": 27,
   "metadata": {},
   "outputs": [
    {
     "data": {
      "text/plain": [
       "0.9635226179018287"
      ]
     },
     "execution_count": 27,
     "metadata": {},
     "output_type": "execute_result"
    }
   ],
   "source": [
    "len(df[df[\"count\"].between(4,1000)])/len(df)"
   ]
  },
  {
   "cell_type": "code",
   "execution_count": 28,
   "metadata": {},
   "outputs": [
    {
     "data": {
      "text/html": [
       "<div>\n",
       "<style scoped>\n",
       "    .dataframe tbody tr th:only-of-type {\n",
       "        vertical-align: middle;\n",
       "    }\n",
       "\n",
       "    .dataframe tbody tr th {\n",
       "        vertical-align: top;\n",
       "    }\n",
       "\n",
       "    .dataframe thead th {\n",
       "        text-align: right;\n",
       "    }\n",
       "</style>\n",
       "<table border=\"1\" class=\"dataframe\">\n",
       "  <thead>\n",
       "    <tr style=\"text-align: right;\">\n",
       "      <th></th>\n",
       "      <th>event_no</th>\n",
       "      <th>count</th>\n",
       "    </tr>\n",
       "  </thead>\n",
       "  <tbody>\n",
       "    <tr>\n",
       "      <th>0</th>\n",
       "      <td>6</td>\n",
       "      <td>24</td>\n",
       "    </tr>\n",
       "    <tr>\n",
       "      <th>1</th>\n",
       "      <td>20</td>\n",
       "      <td>35</td>\n",
       "    </tr>\n",
       "    <tr>\n",
       "      <th>2</th>\n",
       "      <td>28</td>\n",
       "      <td>37</td>\n",
       "    </tr>\n",
       "    <tr>\n",
       "      <th>3</th>\n",
       "      <td>32</td>\n",
       "      <td>58</td>\n",
       "    </tr>\n",
       "    <tr>\n",
       "      <th>4</th>\n",
       "      <td>46</td>\n",
       "      <td>61</td>\n",
       "    </tr>\n",
       "    <tr>\n",
       "      <th>...</th>\n",
       "      <td>...</td>\n",
       "      <td>...</td>\n",
       "    </tr>\n",
       "    <tr>\n",
       "      <th>1267574</th>\n",
       "      <td>7458089</td>\n",
       "      <td>12</td>\n",
       "    </tr>\n",
       "    <tr>\n",
       "      <th>1267575</th>\n",
       "      <td>7458096</td>\n",
       "      <td>40</td>\n",
       "    </tr>\n",
       "    <tr>\n",
       "      <th>1267576</th>\n",
       "      <td>7458111</td>\n",
       "      <td>28</td>\n",
       "    </tr>\n",
       "    <tr>\n",
       "      <th>1267577</th>\n",
       "      <td>7458127</td>\n",
       "      <td>20</td>\n",
       "    </tr>\n",
       "    <tr>\n",
       "      <th>1267579</th>\n",
       "      <td>7458144</td>\n",
       "      <td>133</td>\n",
       "    </tr>\n",
       "  </tbody>\n",
       "</table>\n",
       "<p>1221342 rows × 2 columns</p>\n",
       "</div>"
      ],
      "text/plain": [
       "         event_no  count\n",
       "0               6     24\n",
       "1              20     35\n",
       "2              28     37\n",
       "3              32     58\n",
       "4              46     61\n",
       "...           ...    ...\n",
       "1267574   7458089     12\n",
       "1267575   7458096     40\n",
       "1267576   7458111     28\n",
       "1267577   7458127     20\n",
       "1267579   7458144    133\n",
       "\n",
       "[1221342 rows x 2 columns]"
      ]
     },
     "execution_count": 28,
     "metadata": {},
     "output_type": "execute_result"
    }
   ],
   "source": [
    "from sklearn.model_selection import train_test_split\n",
    "df[df[\"count\"].between(4,400)]\n",
    "# numu_nhits_4_1000_train =  "
   ]
  },
  {
   "cell_type": "code",
   "execution_count": null,
   "metadata": {},
   "outputs": [],
   "source": []
  }
 ],
 "metadata": {
  "kernelspec": {
   "display_name": "graphnet",
   "language": "python",
   "name": "python3"
  },
  "language_info": {
   "codemirror_mode": {
    "name": "ipython",
    "version": 3
   },
   "file_extension": ".py",
   "mimetype": "text/x-python",
   "name": "python",
   "nbconvert_exporter": "python",
   "pygments_lexer": "ipython3",
   "version": "3.8.13"
  },
  "orig_nbformat": 4,
  "vscode": {
   "interpreter": {
    "hash": "6c5fb4c392dc910b689950aeeefba71605df50be4f2015b0a69feb34d143fb9c"
   }
  }
 },
 "nbformat": 4,
 "nbformat_minor": 2
}
